{
 "cells": [
  {
   "cell_type": "code",
   "execution_count": 31,
   "id": "decec216",
   "metadata": {},
   "outputs": [
    {
     "name": "stdout",
     "output_type": "stream",
     "text": [
      "Collecting face-recognition\n",
      "  Using cached face_recognition-1.3.0-py2.py3-none-any.whl (15 kB)\n",
      "Requirement already satisfied: face-recognition-models>=0.3.0 in c:\\users\\hp\\anaconda3\\lib\\site-packages (from face-recognition) (0.3.0)\n",
      "Requirement already satisfied: Pillow in c:\\users\\hp\\anaconda3\\lib\\site-packages (from face-recognition) (8.2.0)\n",
      "Requirement already satisfied: Click>=6.0 in c:\\users\\hp\\anaconda3\\lib\\site-packages (from face-recognition) (7.1.2)\n",
      "Requirement already satisfied: numpy in c:\\users\\hp\\anaconda3\\lib\\site-packages (from face-recognition) (1.20.1)\n",
      "Collecting dlib>=19.7\n",
      "  Using cached dlib-19.24.0.tar.gz (3.2 MB)\n",
      "Building wheels for collected packages: dlib\n",
      "  Building wheel for dlib (setup.py): started\n",
      "  Building wheel for dlib (setup.py): finished with status 'error'\n",
      "  Running setup.py clean for dlib\n",
      "Failed to build dlib\n",
      "Installing collected packages: dlib, face-recognition\n",
      "    Running setup.py install for dlib: started\n",
      "    Running setup.py install for dlib: finished with status 'error'\n",
      "Note: you may need to restart the kernel to use updated packages.\n"
     ]
    },
    {
     "name": "stderr",
     "output_type": "stream",
     "text": [
      "  ERROR: Command errored out with exit status 1:\n",
      "   command: 'C:\\Users\\hp\\anaconda3\\python.exe' -u -c 'import sys, setuptools, tokenize; sys.argv[0] = '\"'\"'C:\\\\Users\\\\hp\\\\AppData\\\\Local\\\\Temp\\\\pip-install-s66cfhoq\\\\dlib_fd47b252e3a74888b117d011e4763f77\\\\setup.py'\"'\"'; __file__='\"'\"'C:\\\\Users\\\\hp\\\\AppData\\\\Local\\\\Temp\\\\pip-install-s66cfhoq\\\\dlib_fd47b252e3a74888b117d011e4763f77\\\\setup.py'\"'\"';f=getattr(tokenize, '\"'\"'open'\"'\"', open)(__file__);code=f.read().replace('\"'\"'\\r\\n'\"'\"', '\"'\"'\\n'\"'\"');f.close();exec(compile(code, __file__, '\"'\"'exec'\"'\"'))' bdist_wheel -d 'C:\\Users\\hp\\AppData\\Local\\Temp\\pip-wheel-vms9yrvp'\n",
      "       cwd: C:\\Users\\hp\\AppData\\Local\\Temp\\pip-install-s66cfhoq\\dlib_fd47b252e3a74888b117d011e4763f77\\\n",
      "  Complete output (58 lines):\n",
      "  running bdist_wheel\n",
      "  running build\n",
      "  running build_py\n",
      "  package init file 'tools\\python\\dlib\\__init__.py' not found (or not a regular file)\n",
      "  running build_ext\n",
      "  Building extension for Python 3.8.8 (default, Apr 13 2021, 15:08:03) [MSC v.1916 64 bit (AMD64)]\n",
      "  Invoking CMake setup: 'cmake C:\\Users\\hp\\AppData\\Local\\Temp\\pip-install-s66cfhoq\\dlib_fd47b252e3a74888b117d011e4763f77\\tools\\python -DCMAKE_LIBRARY_OUTPUT_DIRECTORY=C:\\Users\\hp\\AppData\\Local\\Temp\\pip-install-s66cfhoq\\dlib_fd47b252e3a74888b117d011e4763f77\\build\\lib.win-amd64-3.8 -DPYTHON_EXECUTABLE=C:\\Users\\hp\\anaconda3\\python.exe -DCMAKE_LIBRARY_OUTPUT_DIRECTORY_RELEASE=C:\\Users\\hp\\AppData\\Local\\Temp\\pip-install-s66cfhoq\\dlib_fd47b252e3a74888b117d011e4763f77\\build\\lib.win-amd64-3.8 -A x64'\n",
      "  -- Building for: NMake Makefiles\n",
      "  CMake Error at CMakeLists.txt:5 (message):\n",
      "  \n",
      "  \n",
      "  \n",
      "    !!!!!!!!!!!!!!!!!!!!!!!!!!!!!!!!!!!!!!!!!!!!!!!!!!!!!!!!!!!!!!!!!!!!!!!!!!!!!!!\n",
      "  \n",
      "  \n",
      "    You must use Visual Studio to build a python extension on windows.  If you\n",
      "    are getting this error it means you have not installed Visual C++.  Note\n",
      "    that there are many flavors of Visual Studio, like Visual Studio for C#\n",
      "    development.  You need to install Visual Studio for C++.\n",
      "  \n",
      "  \n",
      "    !!!!!!!!!!!!!!!!!!!!!!!!!!!!!!!!!!!!!!!!!!!!!!!!!!!!!!!!!!!!!!!!!!!!!!!!!!!!!!!\n",
      "  \n",
      "  \n",
      "  \n",
      "  \n",
      "  -- Configuring incomplete, errors occurred!\n",
      "  Traceback (most recent call last):\n",
      "    File \"<string>\", line 1, in <module>\n",
      "    File \"C:\\Users\\hp\\AppData\\Local\\Temp\\pip-install-s66cfhoq\\dlib_fd47b252e3a74888b117d011e4763f77\\setup.py\", line 222, in <module>\n",
      "      setup(\n",
      "    File \"C:\\Users\\hp\\anaconda3\\lib\\site-packages\\setuptools\\__init__.py\", line 153, in setup\n",
      "      return distutils.core.setup(**attrs)\n",
      "    File \"C:\\Users\\hp\\anaconda3\\lib\\distutils\\core.py\", line 148, in setup\n",
      "      dist.run_commands()\n",
      "    File \"C:\\Users\\hp\\anaconda3\\lib\\distutils\\dist.py\", line 966, in run_commands\n",
      "      self.run_command(cmd)\n",
      "    File \"C:\\Users\\hp\\anaconda3\\lib\\distutils\\dist.py\", line 985, in run_command\n",
      "      cmd_obj.run()\n",
      "    File \"C:\\Users\\hp\\anaconda3\\lib\\site-packages\\wheel\\bdist_wheel.py\", line 299, in run\n",
      "      self.run_command('build')\n",
      "    File \"C:\\Users\\hp\\anaconda3\\lib\\distutils\\cmd.py\", line 313, in run_command\n",
      "      self.distribution.run_command(command)\n",
      "    File \"C:\\Users\\hp\\anaconda3\\lib\\distutils\\dist.py\", line 985, in run_command\n",
      "      cmd_obj.run()\n",
      "    File \"C:\\Users\\hp\\anaconda3\\lib\\distutils\\command\\build.py\", line 135, in run\n",
      "      self.run_command(cmd_name)\n",
      "    File \"C:\\Users\\hp\\anaconda3\\lib\\distutils\\cmd.py\", line 313, in run_command\n",
      "      self.distribution.run_command(command)\n",
      "    File \"C:\\Users\\hp\\anaconda3\\lib\\distutils\\dist.py\", line 985, in run_command\n",
      "      cmd_obj.run()\n",
      "    File \"C:\\Users\\hp\\AppData\\Local\\Temp\\pip-install-s66cfhoq\\dlib_fd47b252e3a74888b117d011e4763f77\\setup.py\", line 134, in run\n",
      "      self.build_extension(ext)\n",
      "    File \"C:\\Users\\hp\\AppData\\Local\\Temp\\pip-install-s66cfhoq\\dlib_fd47b252e3a74888b117d011e4763f77\\setup.py\", line 171, in build_extension\n",
      "      subprocess.check_call(cmake_setup, cwd=build_folder)\n",
      "    File \"C:\\Users\\hp\\anaconda3\\lib\\subprocess.py\", line 364, in check_call\n",
      "      raise CalledProcessError(retcode, cmd)\n",
      "  subprocess.CalledProcessError: Command '['cmake', 'C:\\\\Users\\\\hp\\\\AppData\\\\Local\\\\Temp\\\\pip-install-s66cfhoq\\\\dlib_fd47b252e3a74888b117d011e4763f77\\\\tools\\\\python', '-DCMAKE_LIBRARY_OUTPUT_DIRECTORY=C:\\\\Users\\\\hp\\\\AppData\\\\Local\\\\Temp\\\\pip-install-s66cfhoq\\\\dlib_fd47b252e3a74888b117d011e4763f77\\\\build\\\\lib.win-amd64-3.8', '-DPYTHON_EXECUTABLE=C:\\\\Users\\\\hp\\\\anaconda3\\\\python.exe', '-DCMAKE_LIBRARY_OUTPUT_DIRECTORY_RELEASE=C:\\\\Users\\\\hp\\\\AppData\\\\Local\\\\Temp\\\\pip-install-s66cfhoq\\\\dlib_fd47b252e3a74888b117d011e4763f77\\\\build\\\\lib.win-amd64-3.8', '-A', 'x64']' returned non-zero exit status 1.\n",
      "  ----------------------------------------\n",
      "  ERROR: Failed building wheel for dlib\n",
      "    ERROR: Command errored out with exit status 1:\n",
      "     command: 'C:\\Users\\hp\\anaconda3\\python.exe' -u -c 'import sys, setuptools, tokenize; sys.argv[0] = '\"'\"'C:\\\\Users\\\\hp\\\\AppData\\\\Local\\\\Temp\\\\pip-install-s66cfhoq\\\\dlib_fd47b252e3a74888b117d011e4763f77\\\\setup.py'\"'\"'; __file__='\"'\"'C:\\\\Users\\\\hp\\\\AppData\\\\Local\\\\Temp\\\\pip-install-s66cfhoq\\\\dlib_fd47b252e3a74888b117d011e4763f77\\\\setup.py'\"'\"';f=getattr(tokenize, '\"'\"'open'\"'\"', open)(__file__);code=f.read().replace('\"'\"'\\r\\n'\"'\"', '\"'\"'\\n'\"'\"');f.close();exec(compile(code, __file__, '\"'\"'exec'\"'\"'))' install --record 'C:\\Users\\hp\\AppData\\Local\\Temp\\pip-record-ox8tx_wz\\install-record.txt' --single-version-externally-managed --compile --install-headers 'C:\\Users\\hp\\anaconda3\\Include\\dlib'\n",
      "         cwd: C:\\Users\\hp\\AppData\\Local\\Temp\\pip-install-s66cfhoq\\dlib_fd47b252e3a74888b117d011e4763f77\\\n",
      "    Complete output (60 lines):\n",
      "    running install\n",
      "    running build\n",
      "    running build_py\n",
      "    package init file 'tools\\python\\dlib\\__init__.py' not found (or not a regular file)\n",
      "    running build_ext\n",
      "    Building extension for Python 3.8.8 (default, Apr 13 2021, 15:08:03) [MSC v.1916 64 bit (AMD64)]\n",
      "    Invoking CMake setup: 'cmake C:\\Users\\hp\\AppData\\Local\\Temp\\pip-install-s66cfhoq\\dlib_fd47b252e3a74888b117d011e4763f77\\tools\\python -DCMAKE_LIBRARY_OUTPUT_DIRECTORY=C:\\Users\\hp\\AppData\\Local\\Temp\\pip-install-s66cfhoq\\dlib_fd47b252e3a74888b117d011e4763f77\\build\\lib.win-amd64-3.8 -DPYTHON_EXECUTABLE=C:\\Users\\hp\\anaconda3\\python.exe -DCMAKE_LIBRARY_OUTPUT_DIRECTORY_RELEASE=C:\\Users\\hp\\AppData\\Local\\Temp\\pip-install-s66cfhoq\\dlib_fd47b252e3a74888b117d011e4763f77\\build\\lib.win-amd64-3.8 -A x64'\n",
      "    -- Building for: NMake Makefiles\n",
      "    CMake Error at CMakeLists.txt:5 (message):\n",
      "    \n",
      "    \n",
      "    \n",
      "      !!!!!!!!!!!!!!!!!!!!!!!!!!!!!!!!!!!!!!!!!!!!!!!!!!!!!!!!!!!!!!!!!!!!!!!!!!!!!!!\n",
      "    \n",
      "    \n",
      "      You must use Visual Studio to build a python extension on windows.  If you\n",
      "      are getting this error it means you have not installed Visual C++.  Note\n",
      "      that there are many flavors of Visual Studio, like Visual Studio for C#\n",
      "      development.  You need to install Visual Studio for C++.\n",
      "    \n",
      "    \n",
      "      !!!!!!!!!!!!!!!!!!!!!!!!!!!!!!!!!!!!!!!!!!!!!!!!!!!!!!!!!!!!!!!!!!!!!!!!!!!!!!!\n",
      "    \n",
      "    \n",
      "    \n",
      "    \n",
      "    -- Configuring incomplete, errors occurred!\n",
      "    Traceback (most recent call last):\n",
      "      File \"<string>\", line 1, in <module>\n",
      "      File \"C:\\Users\\hp\\AppData\\Local\\Temp\\pip-install-s66cfhoq\\dlib_fd47b252e3a74888b117d011e4763f77\\setup.py\", line 222, in <module>\n",
      "        setup(\n",
      "      File \"C:\\Users\\hp\\anaconda3\\lib\\site-packages\\setuptools\\__init__.py\", line 153, in setup\n",
      "        return distutils.core.setup(**attrs)\n",
      "      File \"C:\\Users\\hp\\anaconda3\\lib\\distutils\\core.py\", line 148, in setup\n",
      "        dist.run_commands()\n",
      "      File \"C:\\Users\\hp\\anaconda3\\lib\\distutils\\dist.py\", line 966, in run_commands\n",
      "        self.run_command(cmd)\n",
      "      File \"C:\\Users\\hp\\anaconda3\\lib\\distutils\\dist.py\", line 985, in run_command\n",
      "        cmd_obj.run()\n",
      "      File \"C:\\Users\\hp\\anaconda3\\lib\\site-packages\\setuptools\\command\\install.py\", line 61, in run\n",
      "        return orig.install.run(self)\n",
      "      File \"C:\\Users\\hp\\anaconda3\\lib\\distutils\\command\\install.py\", line 545, in run\n",
      "        self.run_command('build')\n",
      "      File \"C:\\Users\\hp\\anaconda3\\lib\\distutils\\cmd.py\", line 313, in run_command\n",
      "        self.distribution.run_command(command)\n",
      "      File \"C:\\Users\\hp\\anaconda3\\lib\\distutils\\dist.py\", line 985, in run_command\n",
      "        cmd_obj.run()\n",
      "      File \"C:\\Users\\hp\\anaconda3\\lib\\distutils\\command\\build.py\", line 135, in run\n",
      "        self.run_command(cmd_name)\n",
      "      File \"C:\\Users\\hp\\anaconda3\\lib\\distutils\\cmd.py\", line 313, in run_command\n",
      "        self.distribution.run_command(command)\n",
      "      File \"C:\\Users\\hp\\anaconda3\\lib\\distutils\\dist.py\", line 985, in run_command\n",
      "        cmd_obj.run()\n",
      "      File \"C:\\Users\\hp\\AppData\\Local\\Temp\\pip-install-s66cfhoq\\dlib_fd47b252e3a74888b117d011e4763f77\\setup.py\", line 134, in run\n",
      "        self.build_extension(ext)\n",
      "      File \"C:\\Users\\hp\\AppData\\Local\\Temp\\pip-install-s66cfhoq\\dlib_fd47b252e3a74888b117d011e4763f77\\setup.py\", line 171, in build_extension\n",
      "        subprocess.check_call(cmake_setup, cwd=build_folder)\n",
      "      File \"C:\\Users\\hp\\anaconda3\\lib\\subprocess.py\", line 364, in check_call\n",
      "        raise CalledProcessError(retcode, cmd)\n",
      "    subprocess.CalledProcessError: Command '['cmake', 'C:\\\\Users\\\\hp\\\\AppData\\\\Local\\\\Temp\\\\pip-install-s66cfhoq\\\\dlib_fd47b252e3a74888b117d011e4763f77\\\\tools\\\\python', '-DCMAKE_LIBRARY_OUTPUT_DIRECTORY=C:\\\\Users\\\\hp\\\\AppData\\\\Local\\\\Temp\\\\pip-install-s66cfhoq\\\\dlib_fd47b252e3a74888b117d011e4763f77\\\\build\\\\lib.win-amd64-3.8', '-DPYTHON_EXECUTABLE=C:\\\\Users\\\\hp\\\\anaconda3\\\\python.exe', '-DCMAKE_LIBRARY_OUTPUT_DIRECTORY_RELEASE=C:\\\\Users\\\\hp\\\\AppData\\\\Local\\\\Temp\\\\pip-install-s66cfhoq\\\\dlib_fd47b252e3a74888b117d011e4763f77\\\\build\\\\lib.win-amd64-3.8', '-A', 'x64']' returned non-zero exit status 1.\n",
      "    ----------------------------------------\n",
      "ERROR: Command errored out with exit status 1: 'C:\\Users\\hp\\anaconda3\\python.exe' -u -c 'import sys, setuptools, tokenize; sys.argv[0] = '\"'\"'C:\\\\Users\\\\hp\\\\AppData\\\\Local\\\\Temp\\\\pip-install-s66cfhoq\\\\dlib_fd47b252e3a74888b117d011e4763f77\\\\setup.py'\"'\"'; __file__='\"'\"'C:\\\\Users\\\\hp\\\\AppData\\\\Local\\\\Temp\\\\pip-install-s66cfhoq\\\\dlib_fd47b252e3a74888b117d011e4763f77\\\\setup.py'\"'\"';f=getattr(tokenize, '\"'\"'open'\"'\"', open)(__file__);code=f.read().replace('\"'\"'\\r\\n'\"'\"', '\"'\"'\\n'\"'\"');f.close();exec(compile(code, __file__, '\"'\"'exec'\"'\"'))' install --record 'C:\\Users\\hp\\AppData\\Local\\Temp\\pip-record-ox8tx_wz\\install-record.txt' --single-version-externally-managed --compile --install-headers 'C:\\Users\\hp\\anaconda3\\Include\\dlib' Check the logs for full command output.\n"
     ]
    }
   ],
   "source": [
    "pip install face-recognition"
   ]
  },
  {
   "cell_type": "code",
   "execution_count": 28,
   "id": "4b484e47",
   "metadata": {},
   "outputs": [
    {
     "ename": "ModuleNotFoundError",
     "evalue": "No module named 'face_recognition'",
     "output_type": "error",
     "traceback": [
      "\u001b[1;31m---------------------------------------------------------------------------\u001b[0m",
      "\u001b[1;31mModuleNotFoundError\u001b[0m                       Traceback (most recent call last)",
      "\u001b[1;32m<ipython-input-28-b631991d11e7>\u001b[0m in \u001b[0;36m<module>\u001b[1;34m\u001b[0m\n\u001b[0;32m      1\u001b[0m \u001b[1;32mimport\u001b[0m \u001b[0mcv2\u001b[0m\u001b[1;33m\u001b[0m\u001b[1;33m\u001b[0m\u001b[0m\n\u001b[0;32m      2\u001b[0m \u001b[1;32mimport\u001b[0m \u001b[0mos\u001b[0m\u001b[1;33m\u001b[0m\u001b[1;33m\u001b[0m\u001b[0m\n\u001b[1;32m----> 3\u001b[1;33m \u001b[1;32mimport\u001b[0m \u001b[0mface_recognition\u001b[0m\u001b[1;33m\u001b[0m\u001b[1;33m\u001b[0m\u001b[0m\n\u001b[0m",
      "\u001b[1;31mModuleNotFoundError\u001b[0m: No module named 'face_recognition'"
     ]
    }
   ],
   "source": [
    "import cv2\n",
    "import os\n",
    "import face_recognition"
   ]
  },
  {
   "cell_type": "code",
   "execution_count": 19,
   "id": "e316dfc4",
   "metadata": {},
   "outputs": [],
   "source": [
    "# importing the images\n",
    "folderPath = 'D:\\Projects\\Face_Recognization_with_real_time_database\\Images'\n",
    "\n",
    "PathList = os.listdir(folderPath)\n",
    "\n",
    "imgList = []\n",
    "\n",
    "# storing id's of every person\n",
    "studentId = []\n",
    "\n",
    "for path in PathList:\n",
    "    imgList.append(cv2.imread(os.path.join(folderPath,path)))\n",
    "    \n",
    "    # using splitext function to split the name and .png part of the image as name is the id\n",
    "    studentId.append(os.path.splitext(path)[0])\n",
    "    \n",
    "#print(len(imgModeList))\n",
    "#print(studentId)"
   ]
  },
  {
   "cell_type": "code",
   "execution_count": 20,
   "id": "2843959f",
   "metadata": {},
   "outputs": [
    {
     "name": "stdout",
     "output_type": "stream",
     "text": [
      "4\n"
     ]
    }
   ],
   "source": [
    "# importing the modes\n",
    "folderPath = 'D:\\Projects\\Face_Recognization_with_real_time_database\\Resources\\Modes'\n",
    "\n",
    "modePathList = os.listdir(folderModePath)\n",
    "\n",
    "imgModeList = []\n",
    "\n",
    "for path in modePathList:\n",
    "    imgModeList.append(cv2.imread(os.path.join(folderModePath,path)))\n",
    "    \n",
    "print(len(imgModeList))"
   ]
  },
  {
   "cell_type": "code",
   "execution_count": 21,
   "id": "9763f932",
   "metadata": {},
   "outputs": [
    {
     "name": "stdout",
     "output_type": "stream",
     "text": [
      "Encoding started...\n"
     ]
    },
    {
     "ename": "NameError",
     "evalue": "name 'face_recognition' is not defined",
     "output_type": "error",
     "traceback": [
      "\u001b[1;31m---------------------------------------------------------------------------\u001b[0m",
      "\u001b[1;31mNameError\u001b[0m                                 Traceback (most recent call last)",
      "\u001b[1;32m<ipython-input-21-93f77732d88d>\u001b[0m in \u001b[0;36m<module>\u001b[1;34m\u001b[0m\n\u001b[0;32m      9\u001b[0m \u001b[1;33m\u001b[0m\u001b[0m\n\u001b[0;32m     10\u001b[0m \u001b[0mprint\u001b[0m\u001b[1;33m(\u001b[0m\u001b[1;34m\"Encoding started...\"\u001b[0m\u001b[1;33m)\u001b[0m\u001b[1;33m\u001b[0m\u001b[1;33m\u001b[0m\u001b[0m\n\u001b[1;32m---> 11\u001b[1;33m \u001b[0mencodeListKnown\u001b[0m \u001b[1;33m=\u001b[0m \u001b[0mfindEncodings\u001b[0m\u001b[1;33m(\u001b[0m\u001b[0mimgList\u001b[0m\u001b[1;33m)\u001b[0m\u001b[1;33m\u001b[0m\u001b[1;33m\u001b[0m\u001b[0m\n\u001b[0m\u001b[0;32m     12\u001b[0m \u001b[0mprint\u001b[0m\u001b[1;33m(\u001b[0m\u001b[1;34m\"Encoding ended\"\u001b[0m\u001b[1;33m)\u001b[0m\u001b[1;33m\u001b[0m\u001b[1;33m\u001b[0m\u001b[0m\n",
      "\u001b[1;32m<ipython-input-21-93f77732d88d>\u001b[0m in \u001b[0;36mfindEncodings\u001b[1;34m(imagesList)\u001b[0m\n\u001b[0;32m      3\u001b[0m     \u001b[1;32mfor\u001b[0m \u001b[0mimg\u001b[0m \u001b[1;32min\u001b[0m \u001b[0mimagesList\u001b[0m\u001b[1;33m:\u001b[0m\u001b[1;33m\u001b[0m\u001b[1;33m\u001b[0m\u001b[0m\n\u001b[0;32m      4\u001b[0m         \u001b[0mimg\u001b[0m \u001b[1;33m=\u001b[0m \u001b[0mcv2\u001b[0m\u001b[1;33m.\u001b[0m\u001b[0mcvtColor\u001b[0m\u001b[1;33m(\u001b[0m\u001b[0mimg\u001b[0m\u001b[1;33m,\u001b[0m\u001b[0mcv2\u001b[0m\u001b[1;33m.\u001b[0m\u001b[0mCOLOR_BGR2RGB\u001b[0m\u001b[1;33m)\u001b[0m\u001b[1;33m\u001b[0m\u001b[1;33m\u001b[0m\u001b[0m\n\u001b[1;32m----> 5\u001b[1;33m         \u001b[0mencode\u001b[0m \u001b[1;33m=\u001b[0m \u001b[0mface_recognition\u001b[0m\u001b[1;33m.\u001b[0m\u001b[0mface_encodings\u001b[0m\u001b[1;33m(\u001b[0m\u001b[0mimg\u001b[0m\u001b[1;33m)\u001b[0m\u001b[1;33m[\u001b[0m\u001b[1;36m0\u001b[0m\u001b[1;33m]\u001b[0m\u001b[1;33m\u001b[0m\u001b[1;33m\u001b[0m\u001b[0m\n\u001b[0m\u001b[0;32m      6\u001b[0m         \u001b[0mencodeList\u001b[0m\u001b[1;33m.\u001b[0m\u001b[0mappend\u001b[0m\u001b[1;33m(\u001b[0m\u001b[0mencode\u001b[0m\u001b[1;33m)\u001b[0m\u001b[1;33m\u001b[0m\u001b[1;33m\u001b[0m\u001b[0m\n\u001b[0;32m      7\u001b[0m \u001b[1;33m\u001b[0m\u001b[0m\n",
      "\u001b[1;31mNameError\u001b[0m: name 'face_recognition' is not defined"
     ]
    }
   ],
   "source": [
    "def findEncodings(imagesList):\n",
    "    encodeList = []\n",
    "    for img in imagesList:\n",
    "        img = cv2.cvtColor(img,cv2.COLOR_BGR2RGB)\n",
    "        encode = face_recognition.face_encodings(img)[0]\n",
    "        encodeList.append(encode)\n",
    "    \n",
    "    return encodeList\n",
    "\n",
    "print(\"Encoding started...\")\n",
    "encodeListKnown = findEncodings(imgList)\n",
    "print(\"Encoding ended\")"
   ]
  },
  {
   "cell_type": "code",
   "execution_count": null,
   "id": "c2cf422e",
   "metadata": {},
   "outputs": [],
   "source": []
  },
  {
   "cell_type": "code",
   "execution_count": null,
   "id": "312f97f5",
   "metadata": {},
   "outputs": [],
   "source": [
    "# activating webcam\n",
    "cap = cv2.VideoCapture(0)\n",
    "\n",
    "#importing background image\n",
    "imgBackground = cv2.imread(r'D:\\Projects\\Face_Recognization_with_real_time_database\\Resources\\background.png')\n",
    "\n",
    "# setting size of height and width of the image and webcam\n",
    "cap.set(3, 640)\n",
    "cap.set(4, 480)\n",
    "\n",
    "while True :\n",
    "    res , img = cap.read()\n",
    "    # overlapping the background image and webcam\n",
    "    imgBackground[162:162+480, 55:55+640] = img\n",
    "    imgBackground[44:44+633, 808:808+414] = imgModeList[0]\n",
    "    \n",
    "    # cv2.imshow(\"webcam\",img)\n",
    "    cv2.imshow(\"Face Attendance\",imgBackground)\n",
    "    \n",
    "    # webcam will stop when we press a\n",
    "    if cv2.waitKey(10) == ord(\"a\"):\n",
    "        break\n",
    "cap.release()"
   ]
  }
 ],
 "metadata": {
  "kernelspec": {
   "display_name": "Python 3",
   "language": "python",
   "name": "python3"
  },
  "language_info": {
   "codemirror_mode": {
    "name": "ipython",
    "version": 3
   },
   "file_extension": ".py",
   "mimetype": "text/x-python",
   "name": "python",
   "nbconvert_exporter": "python",
   "pygments_lexer": "ipython3",
   "version": "3.8.8"
  }
 },
 "nbformat": 4,
 "nbformat_minor": 5
}
